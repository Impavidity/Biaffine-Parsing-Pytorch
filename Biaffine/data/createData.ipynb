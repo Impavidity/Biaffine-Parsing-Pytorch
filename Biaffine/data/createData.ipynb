{
 "cells": [
  {
   "cell_type": "code",
   "execution_count": 5,
   "metadata": {
    "collapsed": true
   },
   "outputs": [],
   "source": [
    "name = [(\"/mnt/collections/p8shi/data/conll09/English/CoNLL2009-ST-English-train.txt\", \"train.txt\"),\n",
    "        (\"/mnt/collections/p8shi/data/conll09/English/CoNLL2009-ST-English-development.txt\", \"valid.txt\"),\n",
    "        (\"/mnt/collections/p8shi/data/conll09/English/CoNLL2009-ST-evaluation-English.txt\", \"test.txt\"),\n",
    "        (\"/mnt/collections/p8shi/data/conll09/English/CoNLL2009-ST-evaluation-English-ood.txt\", \"ood.txt\")]\n",
    "for source, dest in name:\n",
    "    fin = open(source)\n",
    "    fout = open(dest, \"w\")\n",
    "    word = []\n",
    "    plemma = []\n",
    "    ppos = []\n",
    "    dep = []\n",
    "    label = []\n",
    "    for line in fin.readlines():\n",
    "        line = line.strip().split('\\t')\n",
    "        if len(line) == 1: # ['']\n",
    "            line_to_print = \"{}\\t{}\\t{}\\t{}\\t{}\\n\".format(\" \".join(word), \" \".join(plemma), \" \".join(ppos), \" \".join(dep), \" \".join(label))\n",
    "            fout.write(line_to_print)\n",
    "            word = []\n",
    "            plemma = []\n",
    "            ppos = []\n",
    "            dep = []\n",
    "            label = []\n",
    "        else:\n",
    "            word.append(line[1])\n",
    "            plemma.append(line[3])\n",
    "            ppos.append(line[5])\n",
    "            dep.append(line[8])\n",
    "            label.append(line[10])"
   ]
  },
  {
   "cell_type": "code",
   "execution_count": 1,
   "metadata": {
    "collapsed": true
   },
   "outputs": [],
   "source": [
    "from pbase import script"
   ]
  },
  {
   "cell_type": "code",
   "execution_count": 2,
   "metadata": {},
   "outputs": [
    {
     "name": "stderr",
     "output_type": "stream",
     "text": [
      "100%|██████████| 400000/400000 [00:17<00:00, 23148.69it/s]\n"
     ]
    }
   ],
   "source": [
    "embeddingFilter = script.EmbeddingFilter(sourceEmbeddingPath=\"/data/GloVe/glove.6B.100d.txt\")"
   ]
  },
  {
   "cell_type": "code",
   "execution_count": 3,
   "metadata": {},
   "outputs": [
    {
     "name": "stderr",
     "output_type": "stream",
     "text": [
      "100%|██████████| 39279/39279 [00:00<00:00, 91046.23it/s]"
     ]
    },
    {
     "name": "stdout",
     "output_type": "stream",
     "text": [
      "Add 39279 sentences, and 39782 words\n"
     ]
    },
    {
     "name": "stderr",
     "output_type": "stream",
     "text": [
      "\n"
     ]
    }
   ],
   "source": [
    "embeddingFilter.addCorpus(corpusName='train', sourceTextPath='train.txt', textIndex=0)"
   ]
  },
  {
   "cell_type": "code",
   "execution_count": 5,
   "metadata": {},
   "outputs": [
    {
     "name": "stderr",
     "output_type": "stream",
     "text": [
      "100%|██████████| 1334/1334 [00:00<00:00, 52040.64it/s]"
     ]
    },
    {
     "name": "stdout",
     "output_type": "stream",
     "text": [
      "Add 1334 sentences, and 6084 words\n"
     ]
    },
    {
     "name": "stderr",
     "output_type": "stream",
     "text": [
      "\n"
     ]
    }
   ],
   "source": [
    "embeddingFilter.addCorpus(corpusName='valid', sourceTextPath='valid.txt', textIndex=0)"
   ]
  },
  {
   "cell_type": "code",
   "execution_count": 6,
   "metadata": {
    "collapsed": true
   },
   "outputs": [],
   "source": [
    "embeddingFilter.setTargetBinaryPath(\"glove.100d.conll09.pt\")\n",
    "embeddingFilter.setTargetEmbeddingPath(\"glove.100d.conll09.vec\")"
   ]
  },
  {
   "cell_type": "code",
   "execution_count": 7,
   "metadata": {},
   "outputs": [
    {
     "name": "stdout",
     "output_type": "stream",
     "text": [
      "You are writing Embedding.pt to glove.100d.conll09.pt\n",
      "You are writing Embedding.txt to glove.100d.conll09.vec\n",
      "Total Vocab : 40408\n"
     ]
    },
    {
     "name": "stderr",
     "output_type": "stream",
     "text": [
      "  6%|▌         | 1502/24528 [00:00<00:01, 15013.18it/s]"
     ]
    },
    {
     "name": "stdout",
     "output_type": "stream",
     "text": [
      "Loading vectors from glove.100d.conll09.vec\n"
     ]
    },
    {
     "name": "stderr",
     "output_type": "stream",
     "text": [
      "100%|██████████| 24528/24528 [00:01<00:00, 17939.82it/s]\n"
     ]
    },
    {
     "name": "stdout",
     "output_type": "stream",
     "text": [
      "saving vector to glove.100d.conll09.pt\n"
     ]
    }
   ],
   "source": [
    "embeddingFilter.toBinary()"
   ]
  },
  {
   "cell_type": "code",
   "execution_count": null,
   "metadata": {
    "collapsed": true
   },
   "outputs": [],
   "source": []
  }
 ],
 "metadata": {
  "kernelspec": {
   "display_name": "Python 3",
   "language": "python",
   "name": "python3"
  },
  "language_info": {
   "codemirror_mode": {
    "name": "ipython",
    "version": 3
   },
   "file_extension": ".py",
   "mimetype": "text/x-python",
   "name": "python",
   "nbconvert_exporter": "python",
   "pygments_lexer": "ipython3",
   "version": "3.6.1"
  }
 },
 "nbformat": 4,
 "nbformat_minor": 2
}
