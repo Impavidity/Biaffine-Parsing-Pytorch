{
 "cells": [
  {
   "cell_type": "code",
   "execution_count": 7,
   "metadata": {},
   "outputs": [],
   "source": [
    "gin = open(\"/mnt/collections/p8shi/data/conll09/English/CoNLL2009-ST-English-development.txt\")\n",
    "sin = open(\"/mnt/collections/p8shi/dev/biaffine/Biaffine/results/valid\")\n",
    "gout = open(\"/mnt/collections/p8shi/dev/biaffine/Biaffine/results/conll.valid\", \"w\")\n",
    "sout = open(\"/mnt/collections/p8shi/dev/biaffine/Biaffine/results/conll.valid.pred\", \"w\")\n",
    "for gline, sline in zip(gin.readlines(), sin.readlines()):\n",
    "    gitems = gline.strip().split('\\t')\n",
    "    sitems = sline.strip().split('\\t')\n",
    "    if len(gitems) == 1:\n",
    "        gout.write(\"\\n\")\n",
    "        sout.write(\"\\n\")\n",
    "        continue\n",
    "    index = gitems[0]\n",
    "    word = gitems[1]\n",
    "    pos = gitems[4]\n",
    "    ppos = gitems[5]\n",
    "    gdep = gitems[8]\n",
    "    glabel = gitems[10]\n",
    "    pdep = sitems[9]\n",
    "    plabel = sitems[11]\n",
    "    gout.write(\"\\t\".join([index, word, '_', pos, ppos, '_', gdep, glabel])+\"\\n\")\n",
    "    sout.write(\"\\t\".join([index, word, '_', pos, ppos, '_', pdep, plabel])+\"\\n\")\n",
    "sout.close()\n",
    "gout.close()"
   ]
  },
  {
   "cell_type": "code",
   "execution_count": 8,
   "metadata": {
    "collapsed": true
   },
   "outputs": [],
   "source": [
    "gin = open(\"/mnt/collections/p8shi/data/conll09/English/CoNLL2009-ST-evaluation-English.txt\")\n",
    "sin = open(\"/mnt/collections/p8shi/dev/biaffine/Biaffine/results/test\")\n",
    "gout = open(\"/mnt/collections/p8shi/dev/biaffine/Biaffine/results/conll.test\", \"w\")\n",
    "sout = open(\"/mnt/collections/p8shi/dev/biaffine/Biaffine/results/conll.test.pred\", \"w\")\n",
    "for gline, sline in zip(gin.readlines(), sin.readlines()):\n",
    "    gitems = gline.strip().split('\\t')\n",
    "    sitems = sline.strip().split('\\t')\n",
    "    if len(gitems) == 1:\n",
    "        gout.write(\"\\n\")\n",
    "        sout.write(\"\\n\")\n",
    "        continue\n",
    "    index = gitems[0]\n",
    "    word = gitems[1]\n",
    "    pos = gitems[4]\n",
    "    ppos = gitems[5]\n",
    "    gdep = gitems[8]\n",
    "    glabel = gitems[10]\n",
    "    pdep = sitems[9]\n",
    "    plabel = sitems[11]\n",
    "    gout.write(\"\\t\".join([index, word, '_', pos, ppos, '_', gdep, glabel])+\"\\n\")\n",
    "    sout.write(\"\\t\".join([index, word, '_', pos, ppos, '_', pdep, plabel])+\"\\n\")\n",
    "sout.close()\n",
    "gout.close()"
   ]
  },
  {
   "cell_type": "code",
   "execution_count": null,
   "metadata": {
    "collapsed": true
   },
   "outputs": [],
   "source": []
  }
 ],
 "metadata": {
  "kernelspec": {
   "display_name": "Python 3",
   "language": "python",
   "name": "python3"
  },
  "language_info": {
   "codemirror_mode": {
    "name": "ipython",
    "version": 3
   },
   "file_extension": ".py",
   "mimetype": "text/x-python",
   "name": "python",
   "nbconvert_exporter": "python",
   "pygments_lexer": "ipython3",
   "version": "3.6.1"
  }
 },
 "nbformat": 4,
 "nbformat_minor": 2
}
